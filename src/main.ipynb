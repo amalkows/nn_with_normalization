{
 "cells": [
  {
   "cell_type": "markdown",
   "metadata": {},
   "source": [
    "### Implementacja"
   ]
  },
  {
   "cell_type": "code",
   "execution_count": null,
   "metadata": {},
   "outputs": [],
   "source": [
    "%matplotlib notebook\n",
    "from dataset import DataSet\n",
    "from nn import NN"
   ]
  },
  {
   "cell_type": "code",
   "execution_count": null,
   "metadata": {},
   "outputs": [],
   "source": [
    "net = NN(\"C:\\Mgr\\DataSets\\HandwrittenDigitsMnist.bin\", True);\n",
    "# net = NN(\"C:\\Mgr\\DataSets\\Curves.bin\", True);\n",
    "# net = NN(\"C:\\Mgr\\DataSets\\Faces25x25.bin\", False);\n",
    "\n",
    "# gc.collect()"
   ]
  },
  {
   "cell_type": "markdown",
   "metadata": {},
   "source": [
    "### Dobór parametrów"
   ]
  },
  {
   "cell_type": "markdown",
   "metadata": {},
   "source": [
    "#### Instrukcja\n",
    "\n",
    "Parametr norm odpowiada za metody normalizacji wykorzystującej standaryzacje wartości:<br>\n",
    "0 - brak<br>\n",
    "1 - normalizacja wag<br>\n",
    "2 - normalizacja warstw<br>\n",
    "3 - normalizacjia batchów<br>\n",
    "\n",
    "Parametr optymalizer odpowiada za wybór metody optymalizacji:<br><br>\n",
    "0 - CM<br>\n",
    "1 - CM z czynnikiem normalizującym (odchylenie standardowe wartości funkcji aktywacji)<br>\n",
    "2 - CM z czynnikiem normalizującym (pierwiastek ze średniego kwadratu gradientów)<br>\n",
    "3 - Adam<br>\n",
    "4 - Adam (implementacja TensorFlow)\n",
    "\n",
    "Parametr error_type odpowiada za rodzaj funkcji błędu:<br>\n",
    "0 - błąd entropii<br>\n",
    "1 - błąd średniokwadratowy"
   ]
  },
  {
   "cell_type": "code",
   "execution_count": null,
   "metadata": {},
   "outputs": [],
   "source": [
    "net.output_file_name = \"mnist/smieci2.csv\"\n",
    "\n",
    "net.batch_size = 200\n",
    "net.iteration_count = 1_000_000\n",
    "\n",
    "net.eps_param = 0.005\n",
    "net.max_moment = 0.99\n",
    "net.range_moment = 50_000\n",
    "net.alfa_param = 0.1\n",
    "\n",
    "net.print_info_rate = 10_000\n",
    "net.error_alpha = 0.1\n",
    "\n",
    "net.set_sigmoid_activation()\n",
    "# net.set_selu_activation()\n",
    "\n",
    "net.norm = 0\n",
    "net.optymalizer = 0\n",
    "\n",
    "net.print_csv = False\n",
    "net.print_console = True\n",
    "net.print_charts = True"
   ]
  },
  {
   "cell_type": "code",
   "execution_count": null,
   "metadata": {},
   "outputs": [],
   "source": [
    "# Faces\n",
    "# net.set_layers([625, 2000, 1000, 500, 30])\n",
    "# net.last_layer_activation = 'linear'\n",
    "# net.error_type = 1"
   ]
  },
  {
   "cell_type": "code",
   "execution_count": null,
   "metadata": {},
   "outputs": [],
   "source": [
    "#Curves\n",
    "# net.set_layers([784, 400, 200, 100, 50, 25, 6])\n",
    "# net.last_layer_activation = \"sigmoid\"\n",
    "# net.error_type = 0"
   ]
  },
  {
   "cell_type": "code",
   "execution_count": null,
   "metadata": {},
   "outputs": [],
   "source": [
    "# MNIST\n",
    "net.set_layers([784, 1000, 500, 250, 30])\n",
    "net.last_layer_activation = \"sigmoid\"\n",
    "net.error_type = 0"
   ]
  },
  {
   "cell_type": "markdown",
   "metadata": {},
   "source": [
    "### Uruchamianie symulacji"
   ]
  },
  {
   "cell_type": "code",
   "execution_count": null,
   "metadata": {
    "scrolled": false
   },
   "outputs": [],
   "source": [
    "net.optymalizer = 0\n",
    "net.run()"
   ]
  },
  {
   "cell_type": "markdown",
   "metadata": {},
   "source": [
    "### Automatyczne strojenie parametrów (metoda PSO)"
   ]
  },
  {
   "cell_type": "code",
   "execution_count": null,
   "metadata": {
    "scrolled": false
   },
   "outputs": [],
   "source": [
    "net.output_file_name = \"faces/normalizacja_czynnik_1_parametry.csv\"\n",
    "\n",
    "\n",
    "net.iteration_count = 500_000\n",
    "\n",
    "net.norm = 0\n",
    "net.optymalizer = 1\n",
    "\n",
    "# Parameters\n",
    "params = [False] * 5\n",
    "\n",
    "# params[0] = True #G\n",
    "params[1] = True #Eps\n",
    "# params[2] = True #Moment\n",
    "# params[3] = True #Alfa\n",
    "# params[4] = True #Range\n",
    "\n",
    "lb = [0.00001]\n",
    "ub = [0.0005]\n",
    "\n",
    "swarm_size = 5\n",
    "max_iter = 30\n",
    "\n",
    "net.optymalize_paramteres(params, lb, ub, swarm_size, max_iter, True)"
   ]
  }
 ],
 "metadata": {
  "kernelspec": {
   "display_name": "Python 3",
   "language": "python",
   "name": "python3"
  },
  "language_info": {
   "codemirror_mode": {
    "name": "ipython",
    "version": 3
   },
   "file_extension": ".py",
   "mimetype": "text/x-python",
   "name": "python",
   "nbconvert_exporter": "python",
   "pygments_lexer": "ipython3",
   "version": "3.6.4"
  }
 },
 "nbformat": 4,
 "nbformat_minor": 2
}
